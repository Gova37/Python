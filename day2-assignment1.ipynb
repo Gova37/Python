{
 "cells": [
  {
   "cell_type": "markdown",
   "metadata": {},
   "source": [
    "# 1.Basic Python Syntax:"
   ]
  },
  {
   "cell_type": "markdown",
   "metadata": {},
   "source": [
    "# # Back slash:"
   ]
  },
  {
   "cell_type": "code",
   "execution_count": 1,
   "metadata": {},
   "outputs": [
    {
     "name": "stdout",
     "output_type": "stream",
     "text": [
      "Learning Python from             Lets's Upgrade\n"
     ]
    }
   ],
   "source": [
    "print(\"Learning Python from \\\n",
    "            Lets's Upgrade\")"
   ]
  },
  {
   "cell_type": "markdown",
   "metadata": {},
   "source": [
    "# # Tiple Quote:"
   ]
  },
  {
   "cell_type": "code",
   "execution_count": 3,
   "metadata": {},
   "outputs": [
    {
     "name": "stdout",
     "output_type": "stream",
     "text": [
      " This is Govardhan \n",
      "        from Hyderabad\n"
     ]
    }
   ],
   "source": [
    "print(\"\"\" This is Govardhan \n",
    "        from Hyderabad\"\"\")"
   ]
  },
  {
   "cell_type": "markdown",
   "metadata": {},
   "source": [
    "# String Inside Code:"
   ]
  },
  {
   "cell_type": "code",
   "execution_count": 4,
   "metadata": {},
   "outputs": [
    {
     "name": "stdout",
     "output_type": "stream",
     "text": [
      "Let's meet\n"
     ]
    }
   ],
   "source": [
    "print(\"Let's meet\")"
   ]
  },
  {
   "cell_type": "code",
   "execution_count": 8,
   "metadata": {},
   "outputs": [
    {
     "name": "stdout",
     "output_type": "stream",
     "text": [
      "Let's meet\n"
     ]
    }
   ],
   "source": [
    "print('Let\\'s meet')"
   ]
  },
  {
   "cell_type": "markdown",
   "metadata": {},
   "source": [
    "# # Escape Sequence of String:"
   ]
  },
  {
   "cell_type": "code",
   "execution_count": 10,
   "metadata": {},
   "outputs": [
    {
     "name": "stdout",
     "output_type": "stream",
     "text": [
      "Hi,\t How are you ?\n",
      "Hi,\n",
      " How are you ?\n"
     ]
    }
   ],
   "source": [
    "print(\"Hi,\\t How are you ?\")\n",
    "print(\"Hi,\\n How are you ?\")"
   ]
  },
  {
   "cell_type": "markdown",
   "metadata": {},
   "source": [
    "# Formatted Output:"
   ]
  },
  {
   "cell_type": "code",
   "execution_count": 14,
   "metadata": {},
   "outputs": [
    {
     "name": "stdout",
     "output_type": "stream",
     "text": [
      "The name of Person is Gova and age is 20\n",
      "The name of Person is Gova and age is 20\n"
     ]
    }
   ],
   "source": [
    "name=\"Gova\"\n",
    "age=20\n",
    "print(\"The name of Person is\", name,\"and age is\", age)\n",
    "print(f'The name of Person is {name} and age is {age}')"
   ]
  },
  {
   "cell_type": "markdown",
   "metadata": {},
   "source": [
    "# 2.Python Variables:"
   ]
  },
  {
   "cell_type": "code",
   "execution_count": 16,
   "metadata": {},
   "outputs": [
    {
     "name": "stdout",
     "output_type": "stream",
     "text": [
      "10 10 10 10\n",
      "20 30\n"
     ]
    }
   ],
   "source": [
    "a=10\n",
    "x=y=z=a\n",
    "c,d=20,30\n",
    "print(x,y,z,a)\n",
    "print(c,d)"
   ]
  },
  {
   "cell_type": "markdown",
   "metadata": {},
   "source": [
    "# 3.Python Operators: "
   ]
  },
  {
   "cell_type": "markdown",
   "metadata": {},
   "source": [
    "# #Arithmetic  Operator:"
   ]
  },
  {
   "cell_type": "code",
   "execution_count": 27,
   "metadata": {},
   "outputs": [
    {
     "name": "stdout",
     "output_type": "stream",
     "text": [
      "Add is 55\n",
      "Sub is -35\n",
      "Mul is 450\n",
      "div_float is 0.2222222222222222\n",
      "div_int is 0\n",
      "rem is 10\n",
      "a_power is 1000000000000000000000000000000000000000000000\n",
      "b_power is 34050628916015625\n"
     ]
    }
   ],
   "source": [
    "a=10\n",
    "b=45\n",
    "add=a+b\n",
    "sub=a-b\n",
    "mul=a*b\n",
    "div_float=a/b\n",
    "div_int=a//b\n",
    "rem=a%b\n",
    "a_pow=a**b\n",
    "b_pow=b**a\n",
    "print(f'Add is {add}')\n",
    "print(f'Sub is {sub}')\n",
    "print(f'Mul is {mul}')\n",
    "print(f'div_float is {div_float}')\n",
    "print(f'div_int is {div_int}')\n",
    "print(f'rem is {rem}')\n",
    "print(f'a_power is {a_pow}')\n",
    "print(f'b_power is {b_pow}')"
   ]
  },
  {
   "cell_type": "markdown",
   "metadata": {},
   "source": [
    "# #comparsion Operator:"
   ]
  },
  {
   "cell_type": "code",
   "execution_count": 36,
   "metadata": {},
   "outputs": [
    {
     "name": "stdout",
     "output_type": "stream",
     "text": [
      "False\n",
      "False\n",
      "False\n",
      "True\n",
      "True\n",
      "True\n"
     ]
    }
   ],
   "source": [
    "a=10\n",
    "b=45\n",
    "\"\"\"Equal To\"\"\"\n",
    "c=(a==b)\n",
    "print(c)\n",
    "\"\"\"Less Than\"\"\"\n",
    "d=a>b\n",
    "print(c)\n",
    "\"\"\"Greater Than Equal To\"\"\"\n",
    "e=a>=b\n",
    "print(e)\n",
    "\"\"\"Less Than\"\"\"\n",
    "f=a<b\n",
    "print(f)\n",
    "\"\"\"Less Than Equal To\"\"\"\n",
    "g=a<=b\n",
    "print(g)\n",
    "\"\"\"Not Equal To\"\"\"\n",
    "j=a!=b\n",
    "print(j)\n"
   ]
  },
  {
   "cell_type": "markdown",
   "metadata": {},
   "source": [
    "# #Assignment Operator:"
   ]
  },
  {
   "cell_type": "code",
   "execution_count": 43,
   "metadata": {},
   "outputs": [
    {
     "name": "stdout",
     "output_type": "stream",
     "text": [
      "43\n",
      "55\n",
      "43\n",
      "1849\n",
      "1.0\n",
      "1.0\n"
     ]
    }
   ],
   "source": [
    "a=43\n",
    "print(a)\n",
    "a+=12\n",
    "print(a)\n",
    "a-=12\n",
    "print(a)\n",
    "a*=a\n",
    "print(a)\n",
    "a/=a\n",
    "print(a)\n",
    "a**=a\n",
    "print(a)"
   ]
  },
  {
   "cell_type": "markdown",
   "metadata": {},
   "source": [
    "# #Bitwise Operator:"
   ]
  },
  {
   "cell_type": "code",
   "execution_count": 61,
   "metadata": {},
   "outputs": [
    {
     "name": "stdout",
     "output_type": "stream",
     "text": [
      "The Bitwise OR is 31\n",
      "The Bitwise AND is 8\n",
      "The Bitwise XOR is 23\n",
      "The Bitwise 1's is -13\n",
      "The Bitwise Left Shift  is 1610612736\n",
      "The Bitwise Right Shift is 0\n"
     ]
    }
   ],
   "source": [
    "a=12\n",
    "b=27\n",
    "print(f'The Bitwise OR is {a|b}')\n",
    "print(f'The Bitwise AND is {a&b}')\n",
    "print(f'The Bitwise XOR is {a^b}')\n",
    "print(f'The Bitwise 1\\'s is {~a}')\n",
    "print(f'The Bitwise Left Shift  is {a<<b}')\n",
    "print(f'The Bitwise Right Shift is {a>>b}')"
   ]
  },
  {
   "cell_type": "markdown",
   "metadata": {},
   "source": [
    "# #Logical Operator:"
   ]
  },
  {
   "cell_type": "code",
   "execution_count": 77,
   "metadata": {},
   "outputs": [
    {
     "name": "stdout",
     "output_type": "stream",
     "text": [
      "Logical AND is 67\n",
      "Logical OR is 49\n",
      "Logical NOT  for False is True\n"
     ]
    }
   ],
   "source": [
    "a=49\n",
    "b=67\n",
    "print(f'Logical AND is {a and b}')\n",
    "print(f'Logical OR is {a or b}')\n",
    "print(f'Logical NOT  for False is { not False}')"
   ]
  },
  {
   "cell_type": "markdown",
   "metadata": {},
   "source": [
    "# #Membership Operator:"
   ]
  },
  {
   "cell_type": "code",
   "execution_count": 83,
   "metadata": {},
   "outputs": [
    {
     "name": "stdout",
     "output_type": "stream",
     "text": [
      "True\n"
     ]
    }
   ],
   "source": [
    "str=\"Python is easy to Learn\"\n",
    "c=\"a\" in str\n",
    "print(c)"
   ]
  },
  {
   "cell_type": "markdown",
   "metadata": {},
   "source": [
    "# #Identity Operator"
   ]
  },
  {
   "cell_type": "code",
   "execution_count": 86,
   "metadata": {},
   "outputs": [
    {
     "name": "stdout",
     "output_type": "stream",
     "text": [
      "False\n",
      "False\n"
     ]
    }
   ],
   "source": [
    "a=32\n",
    "b=97\n",
    "print(a==b)\n",
    "print(a is b)"
   ]
  },
  {
   "cell_type": "markdown",
   "metadata": {},
   "source": [
    "# #Operator Precedence"
   ]
  },
  {
   "cell_type": "code",
   "execution_count": 91,
   "metadata": {},
   "outputs": [
    {
     "name": "stdout",
     "output_type": "stream",
     "text": [
      "6\n"
     ]
    }
   ],
   "source": [
    "c=10**2+7-1\n",
    "print(c)"
   ]
  }
 ],
 "metadata": {
  "kernelspec": {
   "display_name": "Python 3",
   "language": "python",
   "name": "python3"
  },
  "language_info": {
   "codemirror_mode": {
    "name": "ipython",
    "version": 3
   },
   "file_extension": ".py",
   "mimetype": "text/x-python",
   "name": "python",
   "nbconvert_exporter": "python",
   "pygments_lexer": "ipython3",
   "version": "3.7.3"
  }
 },
 "nbformat": 4,
 "nbformat_minor": 2
}
