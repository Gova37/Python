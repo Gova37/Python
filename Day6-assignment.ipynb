
list1= [1,2,3,4,5,7,8] 
list2=["a","b","c","d","e"]
Convert to a dictonary in one linecode using List Comprehension

Program:

list1=["a","b","c","d","e"] 
list2= [1,2,3,4,5]  
res = {list1[i]:list2[i] for i in range(len(list1))}  
print (f'creating Dictonary  of 2 list using List comprehension :\n {res}') 

Output:

creating Dictonary  of 2 list using List comprehension :
 {'a': 1, 'b': 2, 'c': 3, 'd': 4, 'e': 5}