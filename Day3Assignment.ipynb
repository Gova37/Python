{
 "cells": [
  {
   "cell_type": "markdown",
   "metadata": {},
   "source": [
    "# Find Sum of  n Number with help of  while Loop"
   ]
  },
  {
   "cell_type": "code",
   "execution_count": 1,
   "metadata": {},
   "outputs": [
    {
     "name": "stdout",
     "output_type": "stream",
     "text": [
      "Enter a Number:34\n",
      "595\n",
      "The Total sum is 595\n"
     ]
    }
   ],
   "source": [
    "n=int(input(\"Enter a Number:\"))\n",
    "sum_of_n=0\n",
    "i=1\n",
    "while i<=n:\n",
    "    sum_of_n+=i\n",
    "    i+=1\n",
    "print(sum_of_n)\n",
    "print(f'The Total sum is {sum_of_n}')"
   ]
  },
  {
   "cell_type": "markdown",
   "metadata": {},
   "source": [
    "# Take an Integer and Find Whether the Number is Prime or Not "
   ]
  },
  {
   "cell_type": "code",
   "execution_count": 12,
   "metadata": {},
   "outputs": [
    {
     "name": "stdout",
     "output_type": "stream",
     "text": [
      "Enter a Number: 347\n",
      "347 is a Prime Number\n"
     ]
    }
   ],
   "source": [
    "n = int(input(\"Enter a Number: \"))\n",
    "if n < 1:\n",
    "    print(f'{n} is Not a Prime Number')\n",
    "else:\n",
    "    for i in range(2,n//2):\n",
    "        if (n % i) == 0:\n",
    "            print(f'{n} is Not a Prime Number')\n",
    "            break\n",
    "        else:\n",
    "            print(f'{n} is a Prime Number')\n",
    "            break"
   ]
  },
  {
   "cell_type": "code",
   "execution_count": null,
   "metadata": {},
   "outputs": [],
   "source": []
  }
 ],
 "metadata": {
  "kernelspec": {
   "display_name": "Python 3",
   "language": "python",
   "name": "python3"
  },
  "language_info": {
   "codemirror_mode": {
    "name": "ipython",
    "version": 3
   },
   "file_extension": ".py",
   "mimetype": "text/x-python",
   "name": "python",
   "nbconvert_exporter": "python",
   "pygments_lexer": "ipython3",
   "version": "3.7.3"
  }
 },
 "nbformat": 4,
 "nbformat_minor": 2
}
