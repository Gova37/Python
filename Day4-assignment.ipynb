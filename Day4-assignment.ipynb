{
 "cells": [
  {
   "cell_type": "markdown",
   "metadata": {},
   "source": [
    "# Find all Occurence of Substring in the given String"
   ]
  },
  {
   "cell_type": "code",
   "execution_count": 7,
   "metadata": {},
   "outputs": [
    {
     "name": "stdout",
     "output_type": "stream",
     "text": [
      "5\n",
      "3\n",
      "5\n",
      "24\n"
     ]
    }
   ],
   "source": [
    "str1=\"what we think we become,we are Python Programmers \"\n",
    "sub_str=\"we\"\n",
    "print(str1.index(sub_str))\n",
    "print(str1.count(sub_str))\n",
    "print(str1.find(sub_str))\n",
    "print(str1.rfind(sub_str))"
   ]
  },
  {
   "cell_type": "code",
   "execution_count": 4,
   "metadata": {},
   "outputs": [
    {
     "name": "stdout",
     "output_type": "stream",
     "text": [
      "Index we present at [5, 14, 24]\n"
     ]
    }
   ],
   "source": [
    "str1=\"what we think we become,we are Python Programmers \"\n",
    "sub_str=\"we\"\n",
    "res = [i for i in range(len(str1))  \n",
    "       if str1.startswith(sub_str, i)] \n",
    "  \n",
    "\n",
    "print (f'Index {sub_str} present at {str(res)}') \n"
   ]
  },
  {
   "cell_type": "markdown",
   "metadata": {},
   "source": [
    "# Explain using islower() and isupper() with different kind of strings"
   ]
  },
  {
   "cell_type": "markdown",
   "metadata": {},
   "source": [
    "\n",
    "# # islower()"
   ]
  },
  {
   "cell_type": "code",
   "execution_count": 5,
   "metadata": {},
   "outputs": [
    {
     "name": "stdout",
     "output_type": "stream",
     "text": [
      "True\n",
      "True\n",
      "False\n",
      "False\n"
     ]
    }
   ],
   "source": [
    "str1=\"let's upgrade\"\n",
    "print(str1.islower())\n",
    "\n",
    "str2=\"letsupgrade.in\"\n",
    "print(str2.islower())\n",
    "\n",
    "str3=\"Let's upgrade\"\n",
    "print(str3.islower())\n",
    "\n",
    "str4=\"letsupgrade.IN\"\n",
    "print(str4.islower())"
   ]
  },
  {
   "cell_type": "markdown",
   "metadata": {},
   "source": [
    "# # isupper()"
   ]
  },
  {
   "cell_type": "code",
   "execution_count": 6,
   "metadata": {},
   "outputs": [
    {
     "name": "stdout",
     "output_type": "stream",
     "text": [
      "True\n",
      "True\n",
      "False\n",
      "False\n"
     ]
    }
   ],
   "source": [
    "str1 = \"LET'S UPGRADE\"\n",
    "print(str1.isupper())\n",
    " \n",
    "str2 = \"LETSUPGRADE.IN\"\n",
    "print(str2.isupper())\n",
    "\n",
    "str3 =\"LETSUPGRADE.in\"\n",
    "print(str3.isupper())\n",
    "\n",
    "str4 = \"letsupgrade.in\"\n",
    "print(str4.isupper())\n"
   ]
  }
 ],
 "metadata": {
  "kernelspec": {
   "display_name": "Python 3",
   "language": "python",
   "name": "python3"
  },
  "language_info": {
   "codemirror_mode": {
    "name": "ipython",
    "version": 3
   },
   "file_extension": ".py",
   "mimetype": "text/x-python",
   "name": "python",
   "nbconvert_exporter": "python",
   "pygments_lexer": "ipython3",
   "version": "3.7.3"
  }
 },
 "nbformat": 4,
 "nbformat_minor": 2
}
